{
 "cells": [
  {
   "cell_type": "markdown",
   "id": "a70e84d6-b8e1-4d42-b391-f8e936c8cc68",
   "metadata": {},
   "source": [
    "# My first MarkDown\n",
    "this is actually the first \n",
    "i'm gonna make a list\n",
    "<a id = contents></a>\n",
    "1. [Import libraries](#imports)\n",
    "1. [Import data](#import_data)\n",
    "1. [Data exploration](#data_exploration)\n",
    "1. [Data cleaning](#data_cleaning)\n",
    "1. [Data preparation](#data_preparation)\n",
    "1. [Benchmark model](#benchmark_model)\n",
    "1. [Feature engineering](#feature_engineering)\n",
    "1. [Model training](#model_training)\n",
    "    * [Decision tree](#decision_tree)\n",
    "    * [Random forest](#random_forest)\n",
    "    * [Compare algorithm performances](#compare_performances)\n",
    "1. [Tuning](#tuning)"
   ]
  },
  {
   "cell_type": "markdown",
   "id": "52bf3d28-7dc0-4f75-82fb-8a77987ef2ce",
   "metadata": {},
   "source": [
    "# Import Libraries <a id ='imports'></a>"
   ]
  },
  {
   "cell_type": "code",
   "execution_count": 24,
   "id": "125eac64-b80d-4fa2-8b44-93f0034c47e3",
   "metadata": {},
   "outputs": [
    {
     "data": {
      "text/html": [
       "<div>\n",
       "<style scoped>\n",
       "    .dataframe tbody tr th:only-of-type {\n",
       "        vertical-align: middle;\n",
       "    }\n",
       "\n",
       "    .dataframe tbody tr th {\n",
       "        vertical-align: top;\n",
       "    }\n",
       "\n",
       "    .dataframe thead th {\n",
       "        text-align: right;\n",
       "    }\n",
       "</style>\n",
       "<table border=\"1\" class=\"dataframe\">\n",
       "  <thead>\n",
       "    <tr style=\"text-align: right;\">\n",
       "      <th></th>\n",
       "      <th>VendorID</th>\n",
       "      <th>tpep_pickup_datetime</th>\n",
       "      <th>tpep_dropoff_datetime</th>\n",
       "      <th>passenger_count</th>\n",
       "      <th>trip_distance</th>\n",
       "      <th>RatecodeID</th>\n",
       "      <th>store_and_fwd_flag</th>\n",
       "      <th>PULocationID</th>\n",
       "      <th>DOLocationID</th>\n",
       "      <th>payment_type</th>\n",
       "      <th>fare_amount</th>\n",
       "      <th>extra</th>\n",
       "      <th>mta_tax</th>\n",
       "      <th>tip_amount</th>\n",
       "      <th>tolls_amount</th>\n",
       "      <th>improvement_surcharge</th>\n",
       "      <th>total_amount</th>\n",
       "      <th>congestion_surcharge</th>\n",
       "      <th>Airport_fee</th>\n",
       "    </tr>\n",
       "  </thead>\n",
       "  <tbody>\n",
       "    <tr>\n",
       "      <th>0</th>\n",
       "      <td>2</td>\n",
       "      <td>2024-01-01 00:57:55</td>\n",
       "      <td>2024-01-01 01:17:43</td>\n",
       "      <td>1.0</td>\n",
       "      <td>1.72</td>\n",
       "      <td>1.0</td>\n",
       "      <td>N</td>\n",
       "      <td>186</td>\n",
       "      <td>79</td>\n",
       "      <td>2</td>\n",
       "      <td>17.7</td>\n",
       "      <td>1.0</td>\n",
       "      <td>0.5</td>\n",
       "      <td>0.00</td>\n",
       "      <td>0.0</td>\n",
       "      <td>1.0</td>\n",
       "      <td>22.70</td>\n",
       "      <td>2.5</td>\n",
       "      <td>0.0</td>\n",
       "    </tr>\n",
       "    <tr>\n",
       "      <th>1</th>\n",
       "      <td>1</td>\n",
       "      <td>2024-01-01 00:03:00</td>\n",
       "      <td>2024-01-01 00:09:36</td>\n",
       "      <td>1.0</td>\n",
       "      <td>1.80</td>\n",
       "      <td>1.0</td>\n",
       "      <td>N</td>\n",
       "      <td>140</td>\n",
       "      <td>236</td>\n",
       "      <td>1</td>\n",
       "      <td>10.0</td>\n",
       "      <td>3.5</td>\n",
       "      <td>0.5</td>\n",
       "      <td>3.75</td>\n",
       "      <td>0.0</td>\n",
       "      <td>1.0</td>\n",
       "      <td>18.75</td>\n",
       "      <td>2.5</td>\n",
       "      <td>0.0</td>\n",
       "    </tr>\n",
       "    <tr>\n",
       "      <th>2</th>\n",
       "      <td>1</td>\n",
       "      <td>2024-01-01 00:17:06</td>\n",
       "      <td>2024-01-01 00:35:01</td>\n",
       "      <td>1.0</td>\n",
       "      <td>4.70</td>\n",
       "      <td>1.0</td>\n",
       "      <td>N</td>\n",
       "      <td>236</td>\n",
       "      <td>79</td>\n",
       "      <td>1</td>\n",
       "      <td>23.3</td>\n",
       "      <td>3.5</td>\n",
       "      <td>0.5</td>\n",
       "      <td>3.00</td>\n",
       "      <td>0.0</td>\n",
       "      <td>1.0</td>\n",
       "      <td>31.30</td>\n",
       "      <td>2.5</td>\n",
       "      <td>0.0</td>\n",
       "    </tr>\n",
       "    <tr>\n",
       "      <th>3</th>\n",
       "      <td>1</td>\n",
       "      <td>2024-01-01 00:36:38</td>\n",
       "      <td>2024-01-01 00:44:56</td>\n",
       "      <td>1.0</td>\n",
       "      <td>1.40</td>\n",
       "      <td>1.0</td>\n",
       "      <td>N</td>\n",
       "      <td>79</td>\n",
       "      <td>211</td>\n",
       "      <td>1</td>\n",
       "      <td>10.0</td>\n",
       "      <td>3.5</td>\n",
       "      <td>0.5</td>\n",
       "      <td>2.00</td>\n",
       "      <td>0.0</td>\n",
       "      <td>1.0</td>\n",
       "      <td>17.00</td>\n",
       "      <td>2.5</td>\n",
       "      <td>0.0</td>\n",
       "    </tr>\n",
       "    <tr>\n",
       "      <th>4</th>\n",
       "      <td>1</td>\n",
       "      <td>2024-01-01 00:46:51</td>\n",
       "      <td>2024-01-01 00:52:57</td>\n",
       "      <td>1.0</td>\n",
       "      <td>0.80</td>\n",
       "      <td>1.0</td>\n",
       "      <td>N</td>\n",
       "      <td>211</td>\n",
       "      <td>148</td>\n",
       "      <td>1</td>\n",
       "      <td>7.9</td>\n",
       "      <td>3.5</td>\n",
       "      <td>0.5</td>\n",
       "      <td>3.20</td>\n",
       "      <td>0.0</td>\n",
       "      <td>1.0</td>\n",
       "      <td>16.10</td>\n",
       "      <td>2.5</td>\n",
       "      <td>0.0</td>\n",
       "    </tr>\n",
       "  </tbody>\n",
       "</table>\n",
       "</div>"
      ],
      "text/plain": [
       "   VendorID tpep_pickup_datetime tpep_dropoff_datetime  passenger_count  \\\n",
       "0         2  2024-01-01 00:57:55   2024-01-01 01:17:43              1.0   \n",
       "1         1  2024-01-01 00:03:00   2024-01-01 00:09:36              1.0   \n",
       "2         1  2024-01-01 00:17:06   2024-01-01 00:35:01              1.0   \n",
       "3         1  2024-01-01 00:36:38   2024-01-01 00:44:56              1.0   \n",
       "4         1  2024-01-01 00:46:51   2024-01-01 00:52:57              1.0   \n",
       "\n",
       "   trip_distance  RatecodeID store_and_fwd_flag  PULocationID  DOLocationID  \\\n",
       "0           1.72         1.0                  N           186            79   \n",
       "1           1.80         1.0                  N           140           236   \n",
       "2           4.70         1.0                  N           236            79   \n",
       "3           1.40         1.0                  N            79           211   \n",
       "4           0.80         1.0                  N           211           148   \n",
       "\n",
       "   payment_type  fare_amount  extra  mta_tax  tip_amount  tolls_amount  \\\n",
       "0             2         17.7    1.0      0.5        0.00           0.0   \n",
       "1             1         10.0    3.5      0.5        3.75           0.0   \n",
       "2             1         23.3    3.5      0.5        3.00           0.0   \n",
       "3             1         10.0    3.5      0.5        2.00           0.0   \n",
       "4             1          7.9    3.5      0.5        3.20           0.0   \n",
       "\n",
       "   improvement_surcharge  total_amount  congestion_surcharge  Airport_fee  \n",
       "0                    1.0         22.70                   2.5          0.0  \n",
       "1                    1.0         18.75                   2.5          0.0  \n",
       "2                    1.0         31.30                   2.5          0.0  \n",
       "3                    1.0         17.00                   2.5          0.0  \n",
       "4                    1.0         16.10                   2.5          0.0  "
      ]
     },
     "execution_count": 24,
     "metadata": {},
     "output_type": "execute_result"
    }
   ],
   "source": [
    "import pandas as pd \n",
    "\n",
    "taxi_df = pd.read_parquet('data/yellow_tripdata_2024-01.parquet')\n",
    "\n",
    "taxi_df.head()\n"
   ]
  },
  {
   "cell_type": "markdown",
   "id": "80b8423d-d52f-4de0-b144-e746e2f9b096",
   "metadata": {},
   "source": [
    "[Back to List](#contents)"
   ]
  },
  {
   "cell_type": "markdown",
   "id": "ce65e0e5-923b-4ccd-bb5b-c66a8561d76c",
   "metadata": {},
   "source": [
    "# Import Data <a id ='import_data'></a>"
   ]
  },
  {
   "cell_type": "code",
   "execution_count": 107,
   "id": "41c0fa29-bb18-49db-9784-e30ffdd06815",
   "metadata": {},
   "outputs": [],
   "source": [
    "#here"
   ]
  },
  {
   "cell_type": "markdown",
   "id": "5f0912cd-bbb7-4c33-9af4-abf55ee4941b",
   "metadata": {},
   "source": [
    "[Back to List](#contents)"
   ]
  },
  {
   "cell_type": "markdown",
   "id": "3958473b-a64c-402b-a92e-28e48e968d5a",
   "metadata": {},
   "source": [
    "# Data Exploration <a id ='data_exploration'></a>"
   ]
  },
  {
   "cell_type": "code",
   "execution_count": 110,
   "id": "0ee09cfb-cd8c-41e6-93e0-a7820f8c802c",
   "metadata": {},
   "outputs": [],
   "source": [
    "#here"
   ]
  },
  {
   "cell_type": "markdown",
   "id": "6a68e7c4-23d4-45f5-a38d-dddca35ef0b1",
   "metadata": {},
   "source": [
    "[Back to List](#contents)"
   ]
  },
  {
   "cell_type": "markdown",
   "id": "757b63ad-8eb9-44d1-b33e-632c0416bdb0",
   "metadata": {},
   "source": [
    "# Data Cleaning <a id ='data_cleaning'></a>"
   ]
  },
  {
   "cell_type": "code",
   "execution_count": 113,
   "id": "5e85c164-47f4-43e2-ac89-ed2dba3d289a",
   "metadata": {},
   "outputs": [],
   "source": [
    "#here"
   ]
  },
  {
   "cell_type": "markdown",
   "id": "0ee52eb3-6de2-4871-9e5d-351b7a17d9ac",
   "metadata": {},
   "source": [
    "[Back to List](#contents)"
   ]
  },
  {
   "cell_type": "markdown",
   "id": "66bf8563-fb73-4e2c-aacc-350e818b01a8",
   "metadata": {},
   "source": [
    "# Data preparation <a id = 'data_preparation'></a>"
   ]
  },
  {
   "cell_type": "code",
   "execution_count": 116,
   "id": "6469bbab-9a17-4054-98a0-e95d1d7cef43",
   "metadata": {},
   "outputs": [],
   "source": [
    "#here"
   ]
  },
  {
   "cell_type": "markdown",
   "id": "247b3c3b-78d7-4ee9-a192-36942d46b95f",
   "metadata": {},
   "source": [
    "[Back to List](#contents)"
   ]
  },
  {
   "cell_type": "markdown",
   "id": "6747f5df-cea7-41dc-9af6-0880eb4b7504",
   "metadata": {},
   "source": [
    "# Benchmark Model <a id = 'benchmark_model'></a>"
   ]
  },
  {
   "cell_type": "code",
   "execution_count": 119,
   "id": "e1da42a6-6d06-4e18-9faa-3dd5b37fa46e",
   "metadata": {},
   "outputs": [],
   "source": [
    "#here"
   ]
  },
  {
   "cell_type": "markdown",
   "id": "1889db53-5d0c-4344-92bd-00d026679c28",
   "metadata": {},
   "source": [
    "[Back to List](#contents)"
   ]
  },
  {
   "cell_type": "markdown",
   "id": "707b384f-cfb1-4b7e-b63d-13db9b963753",
   "metadata": {},
   "source": [
    "# Feature Engineering<a id='feature_engineering'></a>"
   ]
  },
  {
   "cell_type": "code",
   "execution_count": 122,
   "id": "4126247a-aff1-47ce-82c5-f3b2cbeffcc1",
   "metadata": {},
   "outputs": [],
   "source": [
    "#here"
   ]
  },
  {
   "cell_type": "markdown",
   "id": "986b8ddf-0033-442d-bef3-f9baca8de485",
   "metadata": {},
   "source": [
    "[Back to List](#contents)"
   ]
  },
  {
   "cell_type": "markdown",
   "id": "252d04f0-3cab-498b-bf65-f167a2dd5600",
   "metadata": {},
   "source": [
    "# Decision tree <a id = 'decision_tree'></a>"
   ]
  },
  {
   "cell_type": "code",
   "execution_count": 125,
   "id": "5a248b39-5c7e-497d-9338-ef2bfd42ad5c",
   "metadata": {},
   "outputs": [],
   "source": [
    "#here"
   ]
  },
  {
   "cell_type": "markdown",
   "id": "72b43519-29ed-4e4c-8b5b-da87a393b6cb",
   "metadata": {},
   "source": [
    "[Back to List](#contents)"
   ]
  },
  {
   "cell_type": "markdown",
   "id": "d733eefa-dd82-4b78-b9d6-1207bc9e324c",
   "metadata": {},
   "source": [
    "# Random Forest <a id ='random_forest'></a>"
   ]
  },
  {
   "cell_type": "code",
   "execution_count": 128,
   "id": "84560aab-53c2-4c1e-a1ac-338b08b59bcc",
   "metadata": {},
   "outputs": [],
   "source": [
    "#here"
   ]
  },
  {
   "cell_type": "markdown",
   "id": "ce05a426-55d1-44c1-83e6-1e84a75baed7",
   "metadata": {},
   "source": [
    "[Back to List](#contents)"
   ]
  },
  {
   "cell_type": "markdown",
   "id": "9e3d8740-4fbe-4c89-a871-d422187c2e7a",
   "metadata": {},
   "source": [
    "# Compare algorithm performances <a id = 'compare_performances'><a/>"
   ]
  },
  {
   "cell_type": "code",
   "execution_count": 131,
   "id": "756a2ba2-7184-4f01-9d38-8615e7ec2a22",
   "metadata": {},
   "outputs": [],
   "source": [
    "#here"
   ]
  },
  {
   "cell_type": "markdown",
   "id": "6b769c45-67c1-42c3-840e-546c96884de6",
   "metadata": {},
   "source": [
    "[Back to List](#contents)"
   ]
  },
  {
   "cell_type": "markdown",
   "id": "4a87fa06-5a72-4da7-ab9c-cefcaf58dcb3",
   "metadata": {},
   "source": [
    "# Tuning <a id = 'tuning'></a>"
   ]
  },
  {
   "cell_type": "code",
   "execution_count": 134,
   "id": "e375aedf-d616-4d3e-961c-d6366b77aa36",
   "metadata": {},
   "outputs": [],
   "source": [
    "#here"
   ]
  },
  {
   "cell_type": "markdown",
   "id": "8cb5641f-8047-4100-bc14-b155f5d54e0b",
   "metadata": {},
   "source": [
    "[Back to List](#contents)"
   ]
  },
  {
   "cell_type": "code",
   "execution_count": null,
   "id": "113c6c5f-dfd4-441e-9076-9262d8601f3a",
   "metadata": {},
   "outputs": [],
   "source": []
  },
  {
   "cell_type": "code",
   "execution_count": null,
   "id": "f5e1c38f-9d3a-4fde-bb70-c9f4a8b215e8",
   "metadata": {},
   "outputs": [],
   "source": []
  }
 ],
 "metadata": {
  "kernelspec": {
   "display_name": "Python 3 (ipykernel)",
   "language": "python",
   "name": "python3"
  },
  "language_info": {
   "codemirror_mode": {
    "name": "ipython",
    "version": 3
   },
   "file_extension": ".py",
   "mimetype": "text/x-python",
   "name": "python",
   "nbconvert_exporter": "python",
   "pygments_lexer": "ipython3",
   "version": "3.12.4"
  },
  "panel-cell-order": [
   "103a84e5-f344-4d79-bc39-2d9a3fb5952c"
  ]
 },
 "nbformat": 4,
 "nbformat_minor": 5
}
